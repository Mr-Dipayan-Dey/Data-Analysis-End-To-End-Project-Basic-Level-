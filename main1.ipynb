{
 "cells": [
  {
   "cell_type": "code",
   "execution_count": 42,
   "id": "d3fcc1b3",
   "metadata": {},
   "outputs": [],
   "source": [
    "import pandas as pd\n",
    "import seaborn as sns\n",
    "import matplotlib.pyplot as plt"
   ]
  },
  {
   "cell_type": "code",
   "execution_count": 2,
   "id": "f03fe3a8",
   "metadata": {},
   "outputs": [],
   "source": [
    "# data=pd.read_csv(\"zomato_data.csv\")\n",
    "data=pd.read_excel(\"zomato_data.xlsx\")"
   ]
  },
  {
   "cell_type": "code",
   "execution_count": null,
   "id": "54a41900",
   "metadata": {},
   "outputs": [],
   "source": []
  },
  {
   "cell_type": "code",
   "execution_count": 3,
   "id": "7015a506",
   "metadata": {},
   "outputs": [
    {
     "data": {
      "text/html": [
       "<div>\n",
       "<style scoped>\n",
       "    .dataframe tbody tr th:only-of-type {\n",
       "        vertical-align: middle;\n",
       "    }\n",
       "\n",
       "    .dataframe tbody tr th {\n",
       "        vertical-align: top;\n",
       "    }\n",
       "\n",
       "    .dataframe thead th {\n",
       "        text-align: right;\n",
       "    }\n",
       "</style>\n",
       "<table border=\"1\" class=\"dataframe\">\n",
       "  <thead>\n",
       "    <tr style=\"text-align: right;\">\n",
       "      <th></th>\n",
       "      <th>RestaurantID</th>\n",
       "      <th>RestaurantName</th>\n",
       "      <th>CountryCode</th>\n",
       "      <th>City</th>\n",
       "      <th>Address</th>\n",
       "      <th>Locality</th>\n",
       "      <th>LocalityVerbose</th>\n",
       "      <th>Longitude</th>\n",
       "      <th>Latitude</th>\n",
       "      <th>Cuisines</th>\n",
       "      <th>...</th>\n",
       "      <th>Datekey_Opening</th>\n",
       "      <th>Unnamed: 20</th>\n",
       "      <th>Cuisines 1</th>\n",
       "      <th>Cuisines 2</th>\n",
       "      <th>Cuisines 3</th>\n",
       "      <th>Cuisines 4</th>\n",
       "      <th>Cuisines 5</th>\n",
       "      <th>Cuisines 6</th>\n",
       "      <th>Cuisines 7</th>\n",
       "      <th>Cuisines 8</th>\n",
       "    </tr>\n",
       "  </thead>\n",
       "  <tbody>\n",
       "    <tr>\n",
       "      <th>0</th>\n",
       "      <td>18435314</td>\n",
       "      <td>Punjabi's Veg Grill</td>\n",
       "      <td>1</td>\n",
       "      <td>New Delhi</td>\n",
       "      <td>13/288 , 14 Block Gurudwra, Geeta Colony, New ...</td>\n",
       "      <td>Geeta Colony</td>\n",
       "      <td>Geeta Colony, New Delhi</td>\n",
       "      <td>77.276769</td>\n",
       "      <td>28.650775</td>\n",
       "      <td>North Indian</td>\n",
       "      <td>...</td>\n",
       "      <td>2013_9_21</td>\n",
       "      <td>NaN</td>\n",
       "      <td>North Indian</td>\n",
       "      <td>NaN</td>\n",
       "      <td>NaN</td>\n",
       "      <td>NaN</td>\n",
       "      <td>NaN</td>\n",
       "      <td>NaN</td>\n",
       "      <td>NaN</td>\n",
       "      <td>NaN</td>\n",
       "    </tr>\n",
       "    <tr>\n",
       "      <th>1</th>\n",
       "      <td>18378015</td>\n",
       "      <td>Tasty Tandoor</td>\n",
       "      <td>1</td>\n",
       "      <td>New Delhi</td>\n",
       "      <td>726/2, Jheel Khuranja, Geeta Colony, New Delhi</td>\n",
       "      <td>Geeta Colony</td>\n",
       "      <td>Geeta Colony, New Delhi</td>\n",
       "      <td>77.275052</td>\n",
       "      <td>28.658216</td>\n",
       "      <td>North Indian</td>\n",
       "      <td>...</td>\n",
       "      <td>2016_9_10</td>\n",
       "      <td>NaN</td>\n",
       "      <td>North Indian</td>\n",
       "      <td>NaN</td>\n",
       "      <td>NaN</td>\n",
       "      <td>NaN</td>\n",
       "      <td>NaN</td>\n",
       "      <td>NaN</td>\n",
       "      <td>NaN</td>\n",
       "      <td>NaN</td>\n",
       "    </tr>\n",
       "    <tr>\n",
       "      <th>2</th>\n",
       "      <td>18424905</td>\n",
       "      <td>Taste of Spice</td>\n",
       "      <td>1</td>\n",
       "      <td>New Delhi</td>\n",
       "      <td>C-222, Lajpat Nagar 1, New Delhi</td>\n",
       "      <td>Lajpat Nagar 1</td>\n",
       "      <td>Lajpat Nagar 1, New Delhi</td>\n",
       "      <td>77.241312</td>\n",
       "      <td>28.578311</td>\n",
       "      <td>North Indian</td>\n",
       "      <td>...</td>\n",
       "      <td>2018_9_25</td>\n",
       "      <td>NaN</td>\n",
       "      <td>North Indian</td>\n",
       "      <td>NaN</td>\n",
       "      <td>NaN</td>\n",
       "      <td>NaN</td>\n",
       "      <td>NaN</td>\n",
       "      <td>NaN</td>\n",
       "      <td>NaN</td>\n",
       "      <td>NaN</td>\n",
       "    </tr>\n",
       "    <tr>\n",
       "      <th>3</th>\n",
       "      <td>18180072</td>\n",
       "      <td>Kolcata Bengali Dhaba</td>\n",
       "      <td>1</td>\n",
       "      <td>New Delhi</td>\n",
       "      <td>Gali 7, Mahipalpur, New Delhi</td>\n",
       "      <td>Mahipalpur</td>\n",
       "      <td>Mahipalpur, New Delhi</td>\n",
       "      <td>77.123932</td>\n",
       "      <td>28.543587</td>\n",
       "      <td>North Indian</td>\n",
       "      <td>...</td>\n",
       "      <td>2018_9_6</td>\n",
       "      <td>NaN</td>\n",
       "      <td>North Indian</td>\n",
       "      <td>NaN</td>\n",
       "      <td>NaN</td>\n",
       "      <td>NaN</td>\n",
       "      <td>NaN</td>\n",
       "      <td>NaN</td>\n",
       "      <td>NaN</td>\n",
       "      <td>NaN</td>\n",
       "    </tr>\n",
       "    <tr>\n",
       "      <th>4</th>\n",
       "      <td>18415377</td>\n",
       "      <td>Sunil Punjabi Dhaba</td>\n",
       "      <td>1</td>\n",
       "      <td>New Delhi</td>\n",
       "      <td>Main Vasant Kunj Road, Mahipalpur, New Delhi</td>\n",
       "      <td>Mahipalpur</td>\n",
       "      <td>Mahipalpur, New Delhi</td>\n",
       "      <td>77.129706</td>\n",
       "      <td>28.541369</td>\n",
       "      <td>North Indian</td>\n",
       "      <td>...</td>\n",
       "      <td>2013_9_17</td>\n",
       "      <td>NaN</td>\n",
       "      <td>North Indian</td>\n",
       "      <td>NaN</td>\n",
       "      <td>NaN</td>\n",
       "      <td>NaN</td>\n",
       "      <td>NaN</td>\n",
       "      <td>NaN</td>\n",
       "      <td>NaN</td>\n",
       "      <td>NaN</td>\n",
       "    </tr>\n",
       "  </tbody>\n",
       "</table>\n",
       "<p>5 rows × 29 columns</p>\n",
       "</div>"
      ],
      "text/plain": [
       "   RestaurantID         RestaurantName  CountryCode       City  \\\n",
       "0      18435314    Punjabi's Veg Grill            1  New Delhi   \n",
       "1      18378015          Tasty Tandoor            1  New Delhi   \n",
       "2      18424905         Taste of Spice            1  New Delhi   \n",
       "3      18180072  Kolcata Bengali Dhaba            1  New Delhi   \n",
       "4      18415377    Sunil Punjabi Dhaba            1  New Delhi   \n",
       "\n",
       "                                             Address        Locality  \\\n",
       "0  13/288 , 14 Block Gurudwra, Geeta Colony, New ...    Geeta Colony   \n",
       "1     726/2, Jheel Khuranja, Geeta Colony, New Delhi    Geeta Colony   \n",
       "2                   C-222, Lajpat Nagar 1, New Delhi  Lajpat Nagar 1   \n",
       "3                      Gali 7, Mahipalpur, New Delhi      Mahipalpur   \n",
       "4       Main Vasant Kunj Road, Mahipalpur, New Delhi      Mahipalpur   \n",
       "\n",
       "             LocalityVerbose  Longitude   Latitude      Cuisines  ...  \\\n",
       "0    Geeta Colony, New Delhi  77.276769  28.650775  North Indian  ...   \n",
       "1    Geeta Colony, New Delhi  77.275052  28.658216  North Indian  ...   \n",
       "2  Lajpat Nagar 1, New Delhi  77.241312  28.578311  North Indian  ...   \n",
       "3      Mahipalpur, New Delhi  77.123932  28.543587  North Indian  ...   \n",
       "4      Mahipalpur, New Delhi  77.129706  28.541369  North Indian  ...   \n",
       "\n",
       "  Datekey_Opening Unnamed: 20    Cuisines 1 Cuisines 2 Cuisines 3  Cuisines 4  \\\n",
       "0       2013_9_21         NaN  North Indian        NaN        NaN         NaN   \n",
       "1       2016_9_10         NaN  North Indian        NaN        NaN         NaN   \n",
       "2       2018_9_25         NaN  North Indian        NaN        NaN         NaN   \n",
       "3        2018_9_6         NaN  North Indian        NaN        NaN         NaN   \n",
       "4       2013_9_17         NaN  North Indian        NaN        NaN         NaN   \n",
       "\n",
       "   Cuisines 5  Cuisines 6  Cuisines 7 Cuisines 8  \n",
       "0         NaN         NaN         NaN        NaN  \n",
       "1         NaN         NaN         NaN        NaN  \n",
       "2         NaN         NaN         NaN        NaN  \n",
       "3         NaN         NaN         NaN        NaN  \n",
       "4         NaN         NaN         NaN        NaN  \n",
       "\n",
       "[5 rows x 29 columns]"
      ]
     },
     "execution_count": 3,
     "metadata": {},
     "output_type": "execute_result"
    }
   ],
   "source": [
    "data.head()"
   ]
  },
  {
   "cell_type": "code",
   "execution_count": 4,
   "id": "fdd1e0a3",
   "metadata": {},
   "outputs": [
    {
     "data": {
      "text/plain": [
       "RestaurantID               0\n",
       "RestaurantName             0\n",
       "CountryCode                0\n",
       "City                       0\n",
       "Address                    0\n",
       "Locality                   0\n",
       "LocalityVerbose            0\n",
       "Longitude                  0\n",
       "Latitude                   0\n",
       "Cuisines                   9\n",
       "Currency                   0\n",
       "Has_Table_booking          0\n",
       "Has_Online_delivery        0\n",
       "Is_delivering_now          0\n",
       "Switch_to_order_menu       0\n",
       "Price_range                0\n",
       "Votes                      0\n",
       "Average_Cost_for_two       0\n",
       "Rating                     0\n",
       "Datekey_Opening            0\n",
       "Unnamed: 20             9551\n",
       "Cuisines 1                 9\n",
       "Cuisines 2              3403\n",
       "Cuisines 3              6847\n",
       "Cuisines 4              8687\n",
       "Cuisines 5              9271\n",
       "Cuisines 6              9435\n",
       "Cuisines 7              9509\n",
       "Cuisines 8              9537\n",
       "dtype: int64"
      ]
     },
     "execution_count": 4,
     "metadata": {},
     "output_type": "execute_result"
    }
   ],
   "source": [
    "data.isnull().sum()"
   ]
  },
  {
   "cell_type": "code",
   "execution_count": 5,
   "id": "dfeb99d9",
   "metadata": {},
   "outputs": [
    {
     "data": {
      "text/plain": [
       "np.float64(23.921669151812953)"
      ]
     },
     "execution_count": 5,
     "metadata": {},
     "output_type": "execute_result"
    }
   ],
   "source": [
    "(data.isnull().sum().sum()/(data.shape[0]*data.shape[1]))*100"
   ]
  },
  {
   "cell_type": "code",
   "execution_count": 16,
   "id": "40c1c59c",
   "metadata": {},
   "outputs": [],
   "source": [
    "import matplotlib.pyplot as plt\n"
   ]
  },
  {
   "cell_type": "code",
   "execution_count": 71,
   "id": "95c47fb5",
   "metadata": {},
   "outputs": [
    {
     "data": {
      "text/plain": [
       "Index(['RestaurantID', 'RestaurantName', 'CountryCode', 'City', 'Address',\n",
       "       'Locality', 'LocalityVerbose', 'Longitude', 'Latitude', 'Cuisines',\n",
       "       'Currency', 'Has_Table_booking', 'Has_Online_delivery',\n",
       "       'Is_delivering_now', 'Switch_to_order_menu', 'Price_range', 'Votes',\n",
       "       'Average_Cost_for_two', 'Rating', 'Datekey_Opening'],\n",
       "      dtype='object')"
      ]
     },
     "execution_count": 71,
     "metadata": {},
     "output_type": "execute_result"
    }
   ],
   "source": [
    "data.columns"
   ]
  },
  {
   "cell_type": "markdown",
   "id": "9a15046f",
   "metadata": {},
   "source": [
    "# Here i see that \"Unnamed: 20\",\"Cuisines 1\",\"Cuisines 2\",\"Cuisines 3\",\"Cuisines 4\",\"Cuisines 5\",\"Cuisines 6\",\"Cuisines 7\",\"Cuisines 8\" in this column all null values are presents so to clean the data i drop this column "
   ]
  },
  {
   "cell_type": "code",
   "execution_count": 9,
   "id": "15f02f3c",
   "metadata": {},
   "outputs": [],
   "source": [
    "data=data.drop([\"Unnamed: 20\",\"Cuisines 1\",\"Cuisines 2\",\"Cuisines 3\",\"Cuisines 4\",\"Cuisines 5\",\"Cuisines 6\",\"Cuisines 7\",\"Cuisines 8\"],axis=1)"
   ]
  },
  {
   "cell_type": "code",
   "execution_count": 12,
   "id": "6ae1470a",
   "metadata": {},
   "outputs": [
    {
     "data": {
      "text/plain": [
       "0         0\n",
       "1         0\n",
       "2         0\n",
       "3         0\n",
       "4         0\n",
       "       ... \n",
       "9546    171\n",
       "9547    242\n",
       "9548     32\n",
       "9549    209\n",
       "9550    134\n",
       "Name: Votes, Length: 9551, dtype: int64"
      ]
     },
     "execution_count": 12,
     "metadata": {},
     "output_type": "execute_result"
    }
   ],
   "source": [
    "data[\"Votes\"]"
   ]
  },
  {
   "cell_type": "code",
   "execution_count": 21,
   "id": "3d8e307b",
   "metadata": {},
   "outputs": [
    {
     "data": {
      "text/plain": [
       "RestaurantID            0\n",
       "RestaurantName          0\n",
       "CountryCode             0\n",
       "City                    0\n",
       "Address                 0\n",
       "Locality                0\n",
       "LocalityVerbose         0\n",
       "Longitude               0\n",
       "Latitude                0\n",
       "Cuisines                0\n",
       "Currency                0\n",
       "Has_Table_booking       0\n",
       "Has_Online_delivery     0\n",
       "Is_delivering_now       0\n",
       "Switch_to_order_menu    0\n",
       "Price_range             0\n",
       "Votes                   0\n",
       "Average_Cost_for_two    0\n",
       "Rating                  0\n",
       "Datekey_Opening         0\n",
       "dtype: int64"
      ]
     },
     "execution_count": 21,
     "metadata": {},
     "output_type": "execute_result"
    }
   ],
   "source": [
    "data.isnull().sum()"
   ]
  },
  {
   "cell_type": "code",
   "execution_count": 13,
   "id": "939fe894",
   "metadata": {},
   "outputs": [
    {
     "data": {
      "text/plain": [
       "0                                  North Indian\n",
       "1                                  North Indian\n",
       "2                                  North Indian\n",
       "3                                  North Indian\n",
       "4                                  North Indian\n",
       "                         ...                   \n",
       "9546                                       Cafe\n",
       "9547                    Cafe, European, Mexican\n",
       "9548                          Pakistani, Indian\n",
       "9549    Cafe, Sri Lankan, Continental, American\n",
       "9550                                       Cafe\n",
       "Name: Cuisines, Length: 9551, dtype: object"
      ]
     },
     "execution_count": 13,
     "metadata": {},
     "output_type": "execute_result"
    }
   ],
   "source": [
    "data[\"Cuisines\"]"
   ]
  },
  {
   "cell_type": "markdown",
   "id": "d280dcd5",
   "metadata": {},
   "source": [
    "# properly  clean the dataset\n"
   ]
  },
  {
   "cell_type": "code",
   "execution_count": 19,
   "id": "e82d6ffb",
   "metadata": {},
   "outputs": [],
   "source": [
    "data[\"Cuisines\"].fillna(data[\"Cuisines\"].mode()[0],inplace=True)"
   ]
  },
  {
   "cell_type": "code",
   "execution_count": 12,
   "id": "373be985",
   "metadata": {},
   "outputs": [
    {
     "name": "stdout",
     "output_type": "stream",
     "text": [
      "<class 'pandas.core.frame.DataFrame'>\n",
      "RangeIndex: 9551 entries, 0 to 9550\n",
      "Data columns (total 20 columns):\n",
      " #   Column                Non-Null Count  Dtype  \n",
      "---  ------                --------------  -----  \n",
      " 0   RestaurantID          9551 non-null   int64  \n",
      " 1   RestaurantName        9551 non-null   object \n",
      " 2   CountryCode           9551 non-null   int64  \n",
      " 3   City                  9551 non-null   object \n",
      " 4   Address               9551 non-null   object \n",
      " 5   Locality              9551 non-null   object \n",
      " 6   LocalityVerbose       9551 non-null   object \n",
      " 7   Longitude             9551 non-null   float64\n",
      " 8   Latitude              9551 non-null   float64\n",
      " 9   Cuisines              9542 non-null   object \n",
      " 10  Currency              9551 non-null   object \n",
      " 11  Has_Table_booking     9551 non-null   object \n",
      " 12  Has_Online_delivery   9551 non-null   object \n",
      " 13  Is_delivering_now     9551 non-null   object \n",
      " 14  Switch_to_order_menu  9551 non-null   object \n",
      " 15  Price_range           9551 non-null   int64  \n",
      " 16  Votes                 9551 non-null   int64  \n",
      " 17  Average_Cost_for_two  9551 non-null   int64  \n",
      " 18  Rating                9551 non-null   float64\n",
      " 19  Datekey_Opening       9551 non-null   object \n",
      "dtypes: float64(3), int64(5), object(12)\n",
      "memory usage: 1.5+ MB\n"
     ]
    }
   ],
   "source": [
    "data.info()"
   ]
  },
  {
   "cell_type": "code",
   "execution_count": 22,
   "id": "e7f44bc4",
   "metadata": {},
   "outputs": [
    {
     "data": {
      "text/html": [
       "<div>\n",
       "<style scoped>\n",
       "    .dataframe tbody tr th:only-of-type {\n",
       "        vertical-align: middle;\n",
       "    }\n",
       "\n",
       "    .dataframe tbody tr th {\n",
       "        vertical-align: top;\n",
       "    }\n",
       "\n",
       "    .dataframe thead th {\n",
       "        text-align: right;\n",
       "    }\n",
       "</style>\n",
       "<table border=\"1\" class=\"dataframe\">\n",
       "  <thead>\n",
       "    <tr style=\"text-align: right;\">\n",
       "      <th></th>\n",
       "      <th>RestaurantID</th>\n",
       "      <th>RestaurantName</th>\n",
       "      <th>CountryCode</th>\n",
       "      <th>City</th>\n",
       "      <th>Address</th>\n",
       "      <th>Locality</th>\n",
       "      <th>LocalityVerbose</th>\n",
       "      <th>Longitude</th>\n",
       "      <th>Latitude</th>\n",
       "      <th>Cuisines</th>\n",
       "      <th>Currency</th>\n",
       "      <th>Has_Table_booking</th>\n",
       "      <th>Has_Online_delivery</th>\n",
       "      <th>Is_delivering_now</th>\n",
       "      <th>Switch_to_order_menu</th>\n",
       "      <th>Price_range</th>\n",
       "      <th>Votes</th>\n",
       "      <th>Average_Cost_for_two</th>\n",
       "      <th>Rating</th>\n",
       "      <th>Datekey_Opening</th>\n",
       "    </tr>\n",
       "  </thead>\n",
       "  <tbody>\n",
       "    <tr>\n",
       "      <th>0</th>\n",
       "      <td>18435314</td>\n",
       "      <td>Punjabi's Veg Grill</td>\n",
       "      <td>1</td>\n",
       "      <td>New Delhi</td>\n",
       "      <td>13/288 , 14 Block Gurudwra, Geeta Colony, New ...</td>\n",
       "      <td>Geeta Colony</td>\n",
       "      <td>Geeta Colony, New Delhi</td>\n",
       "      <td>77.276769</td>\n",
       "      <td>28.650775</td>\n",
       "      <td>North Indian</td>\n",
       "      <td>Indian Rupees(Rs.)</td>\n",
       "      <td>No</td>\n",
       "      <td>No</td>\n",
       "      <td>No</td>\n",
       "      <td>No</td>\n",
       "      <td>1</td>\n",
       "      <td>0</td>\n",
       "      <td>300</td>\n",
       "      <td>1.0</td>\n",
       "      <td>2013_9_21</td>\n",
       "    </tr>\n",
       "    <tr>\n",
       "      <th>1</th>\n",
       "      <td>18378015</td>\n",
       "      <td>Tasty Tandoor</td>\n",
       "      <td>1</td>\n",
       "      <td>New Delhi</td>\n",
       "      <td>726/2, Jheel Khuranja, Geeta Colony, New Delhi</td>\n",
       "      <td>Geeta Colony</td>\n",
       "      <td>Geeta Colony, New Delhi</td>\n",
       "      <td>77.275052</td>\n",
       "      <td>28.658216</td>\n",
       "      <td>North Indian</td>\n",
       "      <td>Indian Rupees(Rs.)</td>\n",
       "      <td>No</td>\n",
       "      <td>No</td>\n",
       "      <td>No</td>\n",
       "      <td>No</td>\n",
       "      <td>1</td>\n",
       "      <td>0</td>\n",
       "      <td>200</td>\n",
       "      <td>1.0</td>\n",
       "      <td>2016_9_10</td>\n",
       "    </tr>\n",
       "    <tr>\n",
       "      <th>2</th>\n",
       "      <td>18424905</td>\n",
       "      <td>Taste of Spice</td>\n",
       "      <td>1</td>\n",
       "      <td>New Delhi</td>\n",
       "      <td>C-222, Lajpat Nagar 1, New Delhi</td>\n",
       "      <td>Lajpat Nagar 1</td>\n",
       "      <td>Lajpat Nagar 1, New Delhi</td>\n",
       "      <td>77.241312</td>\n",
       "      <td>28.578311</td>\n",
       "      <td>North Indian</td>\n",
       "      <td>Indian Rupees(Rs.)</td>\n",
       "      <td>No</td>\n",
       "      <td>Yes</td>\n",
       "      <td>No</td>\n",
       "      <td>No</td>\n",
       "      <td>1</td>\n",
       "      <td>0</td>\n",
       "      <td>400</td>\n",
       "      <td>1.0</td>\n",
       "      <td>2018_9_25</td>\n",
       "    </tr>\n",
       "    <tr>\n",
       "      <th>3</th>\n",
       "      <td>18180072</td>\n",
       "      <td>Kolcata Bengali Dhaba</td>\n",
       "      <td>1</td>\n",
       "      <td>New Delhi</td>\n",
       "      <td>Gali 7, Mahipalpur, New Delhi</td>\n",
       "      <td>Mahipalpur</td>\n",
       "      <td>Mahipalpur, New Delhi</td>\n",
       "      <td>77.123932</td>\n",
       "      <td>28.543587</td>\n",
       "      <td>North Indian</td>\n",
       "      <td>Indian Rupees(Rs.)</td>\n",
       "      <td>No</td>\n",
       "      <td>No</td>\n",
       "      <td>No</td>\n",
       "      <td>No</td>\n",
       "      <td>1</td>\n",
       "      <td>0</td>\n",
       "      <td>100</td>\n",
       "      <td>1.0</td>\n",
       "      <td>2018_9_6</td>\n",
       "    </tr>\n",
       "    <tr>\n",
       "      <th>4</th>\n",
       "      <td>18415377</td>\n",
       "      <td>Sunil Punjabi Dhaba</td>\n",
       "      <td>1</td>\n",
       "      <td>New Delhi</td>\n",
       "      <td>Main Vasant Kunj Road, Mahipalpur, New Delhi</td>\n",
       "      <td>Mahipalpur</td>\n",
       "      <td>Mahipalpur, New Delhi</td>\n",
       "      <td>77.129706</td>\n",
       "      <td>28.541369</td>\n",
       "      <td>North Indian</td>\n",
       "      <td>Indian Rupees(Rs.)</td>\n",
       "      <td>No</td>\n",
       "      <td>No</td>\n",
       "      <td>No</td>\n",
       "      <td>No</td>\n",
       "      <td>1</td>\n",
       "      <td>0</td>\n",
       "      <td>150</td>\n",
       "      <td>1.0</td>\n",
       "      <td>2013_9_17</td>\n",
       "    </tr>\n",
       "  </tbody>\n",
       "</table>\n",
       "</div>"
      ],
      "text/plain": [
       "   RestaurantID         RestaurantName  CountryCode       City  \\\n",
       "0      18435314    Punjabi's Veg Grill            1  New Delhi   \n",
       "1      18378015          Tasty Tandoor            1  New Delhi   \n",
       "2      18424905         Taste of Spice            1  New Delhi   \n",
       "3      18180072  Kolcata Bengali Dhaba            1  New Delhi   \n",
       "4      18415377    Sunil Punjabi Dhaba            1  New Delhi   \n",
       "\n",
       "                                             Address        Locality  \\\n",
       "0  13/288 , 14 Block Gurudwra, Geeta Colony, New ...    Geeta Colony   \n",
       "1     726/2, Jheel Khuranja, Geeta Colony, New Delhi    Geeta Colony   \n",
       "2                   C-222, Lajpat Nagar 1, New Delhi  Lajpat Nagar 1   \n",
       "3                      Gali 7, Mahipalpur, New Delhi      Mahipalpur   \n",
       "4       Main Vasant Kunj Road, Mahipalpur, New Delhi      Mahipalpur   \n",
       "\n",
       "             LocalityVerbose  Longitude   Latitude      Cuisines  \\\n",
       "0    Geeta Colony, New Delhi  77.276769  28.650775  North Indian   \n",
       "1    Geeta Colony, New Delhi  77.275052  28.658216  North Indian   \n",
       "2  Lajpat Nagar 1, New Delhi  77.241312  28.578311  North Indian   \n",
       "3      Mahipalpur, New Delhi  77.123932  28.543587  North Indian   \n",
       "4      Mahipalpur, New Delhi  77.129706  28.541369  North Indian   \n",
       "\n",
       "             Currency Has_Table_booking Has_Online_delivery Is_delivering_now  \\\n",
       "0  Indian Rupees(Rs.)                No                  No                No   \n",
       "1  Indian Rupees(Rs.)                No                  No                No   \n",
       "2  Indian Rupees(Rs.)                No                 Yes                No   \n",
       "3  Indian Rupees(Rs.)                No                  No                No   \n",
       "4  Indian Rupees(Rs.)                No                  No                No   \n",
       "\n",
       "  Switch_to_order_menu  Price_range  Votes  Average_Cost_for_two  Rating  \\\n",
       "0                   No            1      0                   300     1.0   \n",
       "1                   No            1      0                   200     1.0   \n",
       "2                   No            1      0                   400     1.0   \n",
       "3                   No            1      0                   100     1.0   \n",
       "4                   No            1      0                   150     1.0   \n",
       "\n",
       "  Datekey_Opening  \n",
       "0       2013_9_21  \n",
       "1       2016_9_10  \n",
       "2       2018_9_25  \n",
       "3        2018_9_6  \n",
       "4       2013_9_17  "
      ]
     },
     "execution_count": 22,
     "metadata": {},
     "output_type": "execute_result"
    }
   ],
   "source": [
    "data.head()"
   ]
  },
  {
   "cell_type": "code",
   "execution_count": 33,
   "id": "75e8e520",
   "metadata": {},
   "outputs": [
    {
     "data": {
      "text/plain": [
       "City\n",
       "New Delhi       5473\n",
       "Gurgaon         1118\n",
       "Noida           1080\n",
       "Faridabad        251\n",
       "Ghaziabad         25\n",
       "Bhubaneshwar      21\n",
       "Ahmedabad         21\n",
       "Lucknow           21\n",
       "Guwahati          21\n",
       "Amritsar          21\n",
       "Name: count, dtype: int64"
      ]
     },
     "execution_count": 33,
     "metadata": {},
     "output_type": "execute_result"
    }
   ],
   "source": [
    "most_resturent_city=data[\"City\"].value_counts().head(10)\n",
    "most_resturent_city"
   ]
  },
  {
   "cell_type": "markdown",
   "id": "042a9a51",
   "metadata": {},
   "source": [
    "# Across New Delhi"
   ]
  },
  {
   "cell_type": "code",
   "execution_count": 36,
   "id": "813ced33",
   "metadata": {},
   "outputs": [],
   "source": [
    "nd=data[data[\"City\"]==\"New Delhi\"]"
   ]
  },
  {
   "cell_type": "code",
   "execution_count": 58,
   "id": "9167922f",
   "metadata": {},
   "outputs": [
    {
     "data": {
      "image/png": "[encoded data removed]",
      "text/plain": [
       "<Figure size 640x480 with 1 Axes>"
      ]
     },
     "metadata": {},
     "output_type": "display_data"
    }
   ],
   "source": [
    "top_10_cuisines = nd[\"Cuisines\"].value_counts().head(10)\n",
    "\n",
    "# plt.figure(figsize=(12, 6))  \n",
    "plt.bar(top_10_cuisines.index, top_10_cuisines.values)\n",
    "plt.xticks(rotation=90)  \n",
    "plt.xlabel(\"Cuisines\")\n",
    "plt.ylabel(\"Count\")\n",
    "plt.title(\"Top 10 Cuisines\")\n",
    "plt.show()\n"
   ]
  },
  {
   "cell_type": "markdown",
   "id": "b4b7f929",
   "metadata": {},
   "source": [
    "💡 Business Insight:\n",
    "If someone is looking to open a restaurant or invest in one, focusing on North Indian cuisine or popular multi-cuisine formats would likely attract more customers. Including Fast Food or Chinese options could further increase appeal."
   ]
  },
  {
   "cell_type": "code",
   "execution_count": 56,
   "id": "49338dcb",
   "metadata": {},
   "outputs": [],
   "source": [
    "# nd[\"Cuisines\"].value_counts().head(20)"
   ]
  },
  {
   "cell_type": "code",
   "execution_count": 23,
   "id": "4a54ea18",
   "metadata": {},
   "outputs": [
    {
     "data": {
      "text/plain": [
       "(9551, 20)"
      ]
     },
     "execution_count": 23,
     "metadata": {},
     "output_type": "execute_result"
    }
   ],
   "source": [
    "data.shape"
   ]
  },
  {
   "cell_type": "markdown",
   "id": "58a9007f",
   "metadata": {},
   "source": [
    "# Across Gurgaon"
   ]
  },
  {
   "cell_type": "code",
   "execution_count": 66,
   "id": "032ef02d",
   "metadata": {},
   "outputs": [
    {
     "data": {
      "image/png": "[encoded data removed]",
      "text/plain": [
       "<Figure size 640x480 with 1 Axes>"
      ]
     },
     "metadata": {},
     "output_type": "display_data"
    }
   ],
   "source": [
    "gu=data[data[\"City\"]==\"Gurgaon\"]\n",
    "top_10=gu[\"Cuisines\"].value_counts().head(10)\n",
    "plt.bar(top_10.index,top_10.values)\n",
    "plt.xticks(rotation=90)\n",
    "plt.xlabel(\"Cuisines\")\n",
    "plt.ylabel(\"Count\")\n",
    "plt.title(\"Top 10 Cuisines\")\n",
    "plt.show()\n"
   ]
  },
  {
   "cell_type": "markdown",
   "id": "27d160b6",
   "metadata": {},
   "source": [
    "💡 Business or Strategy Insight:\n",
    "If you're planning to open a restaurant or invest in one:\n",
    "\n",
    "North Indian cuisine is the safest bet, possibly paired with Chinese for variety.\n",
    "\n",
    "Cafés and Bakeries are strong secondary niches.\n",
    "\n",
    "Offering multi-cuisine menus can help reach broader demographics, especially in urban or student-heavy zones."
   ]
  },
  {
   "cell_type": "markdown",
   "id": "29d6fce7",
   "metadata": {},
   "source": [
    "# Across Noida"
   ]
  },
  {
   "cell_type": "code",
   "execution_count": 70,
   "id": "f15a006c",
   "metadata": {},
   "outputs": [
    {
     "data": {
      "image/png": "[encoded data removed]",
      "text/plain": [
       "<Figure size 640x480 with 1 Axes>"
      ]
     },
     "metadata": {},
     "output_type": "display_data"
    }
   ],
   "source": [
    "n=data[data[\"City\"]==\"Noida\"]\n",
    "top_10=n[\"Cuisines\"].value_counts().head(10)\n",
    "plt.bar(top_10.index,top_10.values)\n",
    "plt.xticks(rotation=90)\n",
    "plt.xlabel(\"Cuisines\")\n",
    "plt.ylabel(\"Count\")\n",
    "plt.title(\"Top 10 Cuisines\")\n",
    "plt.show()\n"
   ]
  },
  {
   "cell_type": "markdown",
   "id": "1c5c2f5b",
   "metadata": {},
   "source": [
    "💡 Key Insight:\n",
    "The chart shows a balanced mix of traditional Indian, fast food, and multi-cuisine combinations, with increasing trends in fusion menus and casual dining formats (like cafés and bakeries). A new or expanding restaurant would benefit by including at least two cuisines — ideally North Indian and Chinese, possibly complemented by Mughlai or Fast Food for wider appeal."
   ]
  },
  {
   "cell_type": "markdown",
   "id": "43386a7f",
   "metadata": {},
   "source": [
    "# Business Insightes"
   ]
  },
  {
   "cell_type": "markdown",
   "id": "88465a1d",
   "metadata": {},
   "source": [
    "💡 Top 5 Business Insights (Excl. North Indian Cuisine)\n",
    "Chinese cuisine is widely loved across top cities and appeals strongly to youth—great for both standalone and fusion menus.\n",
    "\n",
    "Fast food is highly scalable and low-cost, making it perfect for QSRs, food trucks, and global-style franchises.\n",
    "\n",
    "Cafés & bakeries are trending in Bangalore and Mumbai—ideal for young crowds, offering chill vibes and coffee culture.\n",
    "\n",
    "Desserts & ice cream outlets are booming—especially those with unique presentation and Instagram appeal.\n",
    "\n",
    "South Indian cuisine is rising in popularity in Bangalore and Delhi NCR—fusion dosa cafés and filter coffee spots have strong potential."
   ]
  },
  {
   "cell_type": "code",
   "execution_count": null,
   "id": "00d3f5fd",
   "metadata": {},
   "outputs": [],
   "source": [
    "# grp=data.groupby(\"City\")\n",
    "# for city,i in grp:\n",
    "#   print(city)\n",
    "#   print(i)\n",
    "# Noida           "
   ]
  },
  {
   "cell_type": "code",
   "execution_count": null,
   "id": "e65540f1",
   "metadata": {},
   "outputs": [],
   "source": []
  },
  {
   "cell_type": "code",
   "execution_count": 68,
   "id": "fc0382c8",
   "metadata": {},
   "outputs": [
    {
     "data": {
      "image/png": "[encoded data removed]",
      "text/plain": [
       "<Figure size 640x480 with 1 Axes>"
      ]
     },
     "metadata": {},
     "output_type": "display_data"
    }
   ],
   "source": [
    "# import seaborn as sns\n",
    "# import matplotlib.pyplot as plt\n",
    "\n",
    "sns.lineplot(x='Price_range', y='Rating', data=data)\n",
    "plt.title(\"Price Range vs Rating\")\n",
    "plt.show()\n"
   ]
  },
  {
   "cell_type": "markdown",
   "id": "516a4342",
   "metadata": {},
   "source": [
    "Higher-priced restaurants tend to receive better ratings.\n",
    "\n",
    "There's a positive correlation between price range and customer satisfaction.\n",
    "\n",
    "Restaurants in price range 3 & 4 have ratings close to or above 3.7, indicating higher perceived quality.\n",
    "\n",
    "Lower-priced outlets (1 & 2) receive lower ratings, possibly due to limited service, ambiance, or food variety."
   ]
  },
  {
   "cell_type": "code",
   "execution_count": 73,
   "id": "12904fff",
   "metadata": {},
   "outputs": [
    {
     "data": {
      "text/html": [
       "<div>\n",
       "<style scoped>\n",
       "    .dataframe tbody tr th:only-of-type {\n",
       "        vertical-align: middle;\n",
       "    }\n",
       "\n",
       "    .dataframe tbody tr th {\n",
       "        vertical-align: top;\n",
       "    }\n",
       "\n",
       "    .dataframe thead th {\n",
       "        text-align: right;\n",
       "    }\n",
       "</style>\n",
       "<table border=\"1\" class=\"dataframe\">\n",
       "  <thead>\n",
       "    <tr style=\"text-align: right;\">\n",
       "      <th></th>\n",
       "      <th>RestaurantID</th>\n",
       "      <th>RestaurantName</th>\n",
       "      <th>CountryCode</th>\n",
       "      <th>City</th>\n",
       "      <th>Address</th>\n",
       "      <th>Locality</th>\n",
       "      <th>LocalityVerbose</th>\n",
       "      <th>Longitude</th>\n",
       "      <th>Latitude</th>\n",
       "      <th>Cuisines</th>\n",
       "      <th>Currency</th>\n",
       "      <th>Has_Table_booking</th>\n",
       "      <th>Has_Online_delivery</th>\n",
       "      <th>Is_delivering_now</th>\n",
       "      <th>Switch_to_order_menu</th>\n",
       "      <th>Price_range</th>\n",
       "      <th>Votes</th>\n",
       "      <th>Average_Cost_for_two</th>\n",
       "      <th>Rating</th>\n",
       "      <th>Datekey_Opening</th>\n",
       "    </tr>\n",
       "  </thead>\n",
       "  <tbody>\n",
       "    <tr>\n",
       "      <th>0</th>\n",
       "      <td>18435314</td>\n",
       "      <td>Punjabi's Veg Grill</td>\n",
       "      <td>1</td>\n",
       "      <td>New Delhi</td>\n",
       "      <td>13/288 , 14 Block Gurudwra, Geeta Colony, New ...</td>\n",
       "      <td>Geeta Colony</td>\n",
       "      <td>Geeta Colony, New Delhi</td>\n",
       "      <td>77.276769</td>\n",
       "      <td>28.650775</td>\n",
       "      <td>North Indian</td>\n",
       "      <td>Indian Rupees(Rs.)</td>\n",
       "      <td>No</td>\n",
       "      <td>No</td>\n",
       "      <td>No</td>\n",
       "      <td>No</td>\n",
       "      <td>1</td>\n",
       "      <td>0</td>\n",
       "      <td>300</td>\n",
       "      <td>1.0</td>\n",
       "      <td>2013_9_21</td>\n",
       "    </tr>\n",
       "    <tr>\n",
       "      <th>1</th>\n",
       "      <td>18378015</td>\n",
       "      <td>Tasty Tandoor</td>\n",
       "      <td>1</td>\n",
       "      <td>New Delhi</td>\n",
       "      <td>726/2, Jheel Khuranja, Geeta Colony, New Delhi</td>\n",
       "      <td>Geeta Colony</td>\n",
       "      <td>Geeta Colony, New Delhi</td>\n",
       "      <td>77.275052</td>\n",
       "      <td>28.658216</td>\n",
       "      <td>North Indian</td>\n",
       "      <td>Indian Rupees(Rs.)</td>\n",
       "      <td>No</td>\n",
       "      <td>No</td>\n",
       "      <td>No</td>\n",
       "      <td>No</td>\n",
       "      <td>1</td>\n",
       "      <td>0</td>\n",
       "      <td>200</td>\n",
       "      <td>1.0</td>\n",
       "      <td>2016_9_10</td>\n",
       "    </tr>\n",
       "    <tr>\n",
       "      <th>2</th>\n",
       "      <td>18424905</td>\n",
       "      <td>Taste of Spice</td>\n",
       "      <td>1</td>\n",
       "      <td>New Delhi</td>\n",
       "      <td>C-222, Lajpat Nagar 1, New Delhi</td>\n",
       "      <td>Lajpat Nagar 1</td>\n",
       "      <td>Lajpat Nagar 1, New Delhi</td>\n",
       "      <td>77.241312</td>\n",
       "      <td>28.578311</td>\n",
       "      <td>North Indian</td>\n",
       "      <td>Indian Rupees(Rs.)</td>\n",
       "      <td>No</td>\n",
       "      <td>Yes</td>\n",
       "      <td>No</td>\n",
       "      <td>No</td>\n",
       "      <td>1</td>\n",
       "      <td>0</td>\n",
       "      <td>400</td>\n",
       "      <td>1.0</td>\n",
       "      <td>2018_9_25</td>\n",
       "    </tr>\n",
       "    <tr>\n",
       "      <th>3</th>\n",
       "      <td>18180072</td>\n",
       "      <td>Kolcata Bengali Dhaba</td>\n",
       "      <td>1</td>\n",
       "      <td>New Delhi</td>\n",
       "      <td>Gali 7, Mahipalpur, New Delhi</td>\n",
       "      <td>Mahipalpur</td>\n",
       "      <td>Mahipalpur, New Delhi</td>\n",
       "      <td>77.123932</td>\n",
       "      <td>28.543587</td>\n",
       "      <td>North Indian</td>\n",
       "      <td>Indian Rupees(Rs.)</td>\n",
       "      <td>No</td>\n",
       "      <td>No</td>\n",
       "      <td>No</td>\n",
       "      <td>No</td>\n",
       "      <td>1</td>\n",
       "      <td>0</td>\n",
       "      <td>100</td>\n",
       "      <td>1.0</td>\n",
       "      <td>2018_9_6</td>\n",
       "    </tr>\n",
       "    <tr>\n",
       "      <th>4</th>\n",
       "      <td>18415377</td>\n",
       "      <td>Sunil Punjabi Dhaba</td>\n",
       "      <td>1</td>\n",
       "      <td>New Delhi</td>\n",
       "      <td>Main Vasant Kunj Road, Mahipalpur, New Delhi</td>\n",
       "      <td>Mahipalpur</td>\n",
       "      <td>Mahipalpur, New Delhi</td>\n",
       "      <td>77.129706</td>\n",
       "      <td>28.541369</td>\n",
       "      <td>North Indian</td>\n",
       "      <td>Indian Rupees(Rs.)</td>\n",
       "      <td>No</td>\n",
       "      <td>No</td>\n",
       "      <td>No</td>\n",
       "      <td>No</td>\n",
       "      <td>1</td>\n",
       "      <td>0</td>\n",
       "      <td>150</td>\n",
       "      <td>1.0</td>\n",
       "      <td>2013_9_17</td>\n",
       "    </tr>\n",
       "  </tbody>\n",
       "</table>\n",
       "</div>"
      ],
      "text/plain": [
       "   RestaurantID         RestaurantName  CountryCode       City  \\\n",
       "0      18435314    Punjabi's Veg Grill            1  New Delhi   \n",
       "1      18378015          Tasty Tandoor            1  New Delhi   \n",
       "2      18424905         Taste of Spice            1  New Delhi   \n",
       "3      18180072  Kolcata Bengali Dhaba            1  New Delhi   \n",
       "4      18415377    Sunil Punjabi Dhaba            1  New Delhi   \n",
       "\n",
       "                                             Address        Locality  \\\n",
       "0  13/288 , 14 Block Gurudwra, Geeta Colony, New ...    Geeta Colony   \n",
       "1     726/2, Jheel Khuranja, Geeta Colony, New Delhi    Geeta Colony   \n",
       "2                   C-222, Lajpat Nagar 1, New Delhi  Lajpat Nagar 1   \n",
       "3                      Gali 7, Mahipalpur, New Delhi      Mahipalpur   \n",
       "4       Main Vasant Kunj Road, Mahipalpur, New Delhi      Mahipalpur   \n",
       "\n",
       "             LocalityVerbose  Longitude   Latitude      Cuisines  \\\n",
       "0    Geeta Colony, New Delhi  77.276769  28.650775  North Indian   \n",
       "1    Geeta Colony, New Delhi  77.275052  28.658216  North Indian   \n",
       "2  Lajpat Nagar 1, New Delhi  77.241312  28.578311  North Indian   \n",
       "3      Mahipalpur, New Delhi  77.123932  28.543587  North Indian   \n",
       "4      Mahipalpur, New Delhi  77.129706  28.541369  North Indian   \n",
       "\n",
       "             Currency Has_Table_booking Has_Online_delivery Is_delivering_now  \\\n",
       "0  Indian Rupees(Rs.)                No                  No                No   \n",
       "1  Indian Rupees(Rs.)                No                  No                No   \n",
       "2  Indian Rupees(Rs.)                No                 Yes                No   \n",
       "3  Indian Rupees(Rs.)                No                  No                No   \n",
       "4  Indian Rupees(Rs.)                No                  No                No   \n",
       "\n",
       "  Switch_to_order_menu  Price_range  Votes  Average_Cost_for_two  Rating  \\\n",
       "0                   No            1      0                   300     1.0   \n",
       "1                   No            1      0                   200     1.0   \n",
       "2                   No            1      0                   400     1.0   \n",
       "3                   No            1      0                   100     1.0   \n",
       "4                   No            1      0                   150     1.0   \n",
       "\n",
       "  Datekey_Opening  \n",
       "0       2013_9_21  \n",
       "1       2016_9_10  \n",
       "2       2018_9_25  \n",
       "3        2018_9_6  \n",
       "4       2013_9_17  "
      ]
     },
     "execution_count": 73,
     "metadata": {},
     "output_type": "execute_result"
    }
   ],
   "source": [
    "data.head()"
   ]
  },
  {
   "cell_type": "code",
   "execution_count": null,
   "id": "551388b1",
   "metadata": {},
   "outputs": [],
   "source": []
  },
  {
   "cell_type": "code",
   "execution_count": 76,
   "id": "bae4407b",
   "metadata": {},
   "outputs": [
    {
     "data": {
      "text/html": [
       "<div>\n",
       "<style scoped>\n",
       "    .dataframe tbody tr th:only-of-type {\n",
       "        vertical-align: middle;\n",
       "    }\n",
       "\n",
       "    .dataframe tbody tr th {\n",
       "        vertical-align: top;\n",
       "    }\n",
       "\n",
       "    .dataframe thead th {\n",
       "        text-align: right;\n",
       "    }\n",
       "</style>\n",
       "<table border=\"1\" class=\"dataframe\">\n",
       "  <thead>\n",
       "    <tr style=\"text-align: right;\">\n",
       "      <th></th>\n",
       "      <th>RestaurantName</th>\n",
       "      <th>City</th>\n",
       "      <th>Rating</th>\n",
       "    </tr>\n",
       "  </thead>\n",
       "  <tbody>\n",
       "    <tr>\n",
       "      <th>9540</th>\n",
       "      <td>Gaga Manjero</td>\n",
       "      <td>Ankara</td>\n",
       "      <td>4.9</td>\n",
       "    </tr>\n",
       "    <tr>\n",
       "      <th>9521</th>\n",
       "      <td>Solita</td>\n",
       "      <td>Manchester</td>\n",
       "      <td>4.9</td>\n",
       "    </tr>\n",
       "    <tr>\n",
       "      <th>8802</th>\n",
       "      <td>Mazzaro's Italian Market</td>\n",
       "      <td>Tampa Bay</td>\n",
       "      <td>4.9</td>\n",
       "    </tr>\n",
       "    <tr>\n",
       "      <th>752</th>\n",
       "      <td>Mama's Fish House</td>\n",
       "      <td>Rest of Hawaii</td>\n",
       "      <td>4.9</td>\n",
       "    </tr>\n",
       "    <tr>\n",
       "      <th>8807</th>\n",
       "      <td>Oakwood Cafe</td>\n",
       "      <td>Dalton</td>\n",
       "      <td>4.9</td>\n",
       "    </tr>\n",
       "    <tr>\n",
       "      <th>820</th>\n",
       "      <td>Braseiro da Gíçvea</td>\n",
       "      <td>Rio de Janeiro</td>\n",
       "      <td>4.9</td>\n",
       "    </tr>\n",
       "    <tr>\n",
       "      <th>8198</th>\n",
       "      <td>AB's - Absolute Barbecues</td>\n",
       "      <td>Chennai</td>\n",
       "      <td>4.9</td>\n",
       "    </tr>\n",
       "    <tr>\n",
       "      <th>8817</th>\n",
       "      <td>Shorts Burger and Shine</td>\n",
       "      <td>Cedar Rapids/Iowa City</td>\n",
       "      <td>4.9</td>\n",
       "    </tr>\n",
       "    <tr>\n",
       "      <th>8527</th>\n",
       "      <td>AB's - Absolute Barbecues</td>\n",
       "      <td>Hyderabad</td>\n",
       "      <td>4.9</td>\n",
       "    </tr>\n",
       "    <tr>\n",
       "      <th>8830</th>\n",
       "      <td>Marukame Udon</td>\n",
       "      <td>Rest of Hawaii</td>\n",
       "      <td>4.9</td>\n",
       "    </tr>\n",
       "  </tbody>\n",
       "</table>\n",
       "</div>"
      ],
      "text/plain": [
       "                 RestaurantName                    City  Rating\n",
       "9540               Gaga Manjero                  Ankara     4.9\n",
       "9521                     Solita              Manchester     4.9\n",
       "8802   Mazzaro's Italian Market               Tampa Bay     4.9\n",
       "752           Mama's Fish House          Rest of Hawaii     4.9\n",
       "8807               Oakwood Cafe                  Dalton     4.9\n",
       "820          Braseiro da Gíçvea          Rio de Janeiro     4.9\n",
       "8198  AB's - Absolute Barbecues                 Chennai     4.9\n",
       "8817    Shorts Burger and Shine  Cedar Rapids/Iowa City     4.9\n",
       "8527  AB's - Absolute Barbecues               Hyderabad     4.9\n",
       "8830              Marukame Udon          Rest of Hawaii     4.9"
      ]
     },
     "execution_count": 76,
     "metadata": {},
     "output_type": "execute_result"
    }
   ],
   "source": [
    "top_rated = data.sort_values(by=\"Rating\", ascending=False)[[\"RestaurantName\", \"City\", \"Rating\"]].head(10)\n",
    "top_rated"
   ]
  },
  {
   "cell_type": "markdown",
   "id": "29cd6ad1",
   "metadata": {},
   "source": [
    "#  Availability of Online Delivery & Table Booking"
   ]
  },
  {
   "cell_type": "code",
   "execution_count": 79,
   "id": "c00d7ac9",
   "metadata": {},
   "outputs": [
    {
     "data": {
      "text/plain": [
       "Has_Online_delivery\n",
       "No     74.337766\n",
       "Yes    25.662234\n",
       "Name: proportion, dtype: float64"
      ]
     },
     "execution_count": 79,
     "metadata": {},
     "output_type": "execute_result"
    }
   ],
   "source": [
    "data[\"Has_Online_delivery\"].value_counts(normalize=True) * 100\n",
    "# table_booking = data[\"Has_Table_booking\"].value_counts(normalize=True) * 100\n",
    "\n"
   ]
  },
  {
   "cell_type": "code",
   "execution_count": null,
   "id": "07e5e846",
   "metadata": {},
   "outputs": [
    {
     "data": {
      "text/plain": [
       "Has_Table_booking\n",
       "No     87.875615\n",
       "Yes    12.124385\n",
       "Name: proportion, dtype: float64"
      ]
     },
     "execution_count": 81,
     "metadata": {},
     "output_type": "execute_result"
    }
   ],
   "source": [
    "data[\"Has_Table_booking\"].value_counts(normalize=True)*100  "
   ]
  }
 ],
 "metadata": {
  "kernelspec": {
   "display_name": "Python 3",
   "language": "python",
   "name": "python3"
  },
  "language_info": {
   "codemirror_mode": {
    "name": "ipython",
    "version": 3
   },
   "file_extension": ".py",
   "mimetype": "text/x-python",
   "name": "python",
   "nbconvert_exporter": "python",
   "pygments_lexer": "ipython3",
   "version": "3.13.1"
  }
 },
 "nbformat": 4,
 "nbformat_minor": 5
}
